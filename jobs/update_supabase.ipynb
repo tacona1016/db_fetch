{
 "cells": [
  {
   "cell_type": "code",
   "execution_count": 33,
   "id": "885a621e",
   "metadata": {},
   "outputs": [
    {
     "data": {
      "text/plain": [
       "True"
      ]
     },
     "execution_count": 33,
     "metadata": {},
     "output_type": "execute_result"
    }
   ],
   "source": [
    "import pandas as pd\n",
    "import psycopg2\n",
    "import yfinance as yf\n",
    "import os\n",
    "from dotenv import load_dotenv\n",
    "from sqlalchemy import create_engine, text\n",
    "import warnings\n",
    "\n",
    "# 모든 경고 무시\n",
    "warnings.filterwarnings(\"ignore\")\n",
    "\n",
    "load_dotenv()"
   ]
  },
  {
   "cell_type": "code",
   "execution_count": 34,
   "id": "2a0ed896",
   "metadata": {},
   "outputs": [
    {
     "name": "stdout",
     "output_type": "stream",
     "text": [
      "2025-08-12 13:28:10.792131+00:00\n"
     ]
    }
   ],
   "source": [
    "import os\n",
    "from sqlalchemy import create_engine, text\n",
    "\n",
    "host = os.environ[\"SUPABASE_HOST\"]\n",
    "port = os.environ.get(\"SUPABASE_PORT\", 5432)\n",
    "db   = os.environ[\"SUPABASE_DB\"]\n",
    "user = os.environ[\"SUPABASE_USER\"]\n",
    "pw   = os.environ[\"SUPABASE_PASSWORD\"]\n",
    "\n",
    "url = f\"postgresql+psycopg2://{user}:{pw}@{host}:{port}/{db}?sslmode=require\"\n",
    "engine = create_engine(url, connect_args={\"sslmode\":\"require\"}, pool_pre_ping=True)\n",
    "\n",
    "# 연결 테스트\n",
    "with engine.begin() as conn:\n",
    "    print(conn.execute(text(\"select now()\")).scalar())\n"
   ]
  },
  {
   "cell_type": "code",
   "execution_count": 38,
   "id": "24f43ebe",
   "metadata": {},
   "outputs": [
    {
     "name": "stderr",
     "output_type": "stream",
     "text": [
      "[*********************100%***********************]  3 of 3 completed\n"
     ]
    }
   ],
   "source": [
    "tickers = [\"AAPL\", \"MSFT\", \"TSLA\"]\n",
    "period = \"10y\"\n",
    "interval = \"1d\"\n",
    "\n",
    "df = yf.download(tickers, period=period, interval=interval, group_by=\"ticker\", auto_adjust=True)\n",
    "df = df.stack(level=0)\n",
    "df = df.reset_index()\n",
    "df.columns = df.columns.str.lower()"
   ]
  },
  {
   "cell_type": "code",
   "execution_count": 39,
   "id": "730be95e",
   "metadata": {},
   "outputs": [],
   "source": [
    "with engine.begin() as conn:\n",
    "    df.to_sql(\"stock_data\", con=conn, if_exists=\"replace\", index=False)"
   ]
  },
  {
   "cell_type": "code",
   "execution_count": 40,
   "id": "01948dc6",
   "metadata": {},
   "outputs": [],
   "source": [
    "with engine.begin() as conn:\n",
    "    df_test = pd.read_sql(\"SELECT * FROM stock_data\", engine)"
   ]
  },
  {
   "cell_type": "code",
   "execution_count": 41,
   "id": "fc831aab",
   "metadata": {},
   "outputs": [
    {
     "data": {
      "text/html": [
       "<div>\n",
       "<style scoped>\n",
       "    .dataframe tbody tr th:only-of-type {\n",
       "        vertical-align: middle;\n",
       "    }\n",
       "\n",
       "    .dataframe tbody tr th {\n",
       "        vertical-align: top;\n",
       "    }\n",
       "\n",
       "    .dataframe thead th {\n",
       "        text-align: right;\n",
       "    }\n",
       "</style>\n",
       "<table border=\"1\" class=\"dataframe\">\n",
       "  <thead>\n",
       "    <tr style=\"text-align: right;\">\n",
       "      <th></th>\n",
       "      <th>date</th>\n",
       "      <th>ticker</th>\n",
       "      <th>open</th>\n",
       "      <th>high</th>\n",
       "      <th>low</th>\n",
       "      <th>close</th>\n",
       "      <th>volume</th>\n",
       "    </tr>\n",
       "  </thead>\n",
       "  <tbody>\n",
       "    <tr>\n",
       "      <th>0</th>\n",
       "      <td>2015-08-12</td>\n",
       "      <td>AAPL</td>\n",
       "      <td>25.288369</td>\n",
       "      <td>25.937826</td>\n",
       "      <td>24.636664</td>\n",
       "      <td>25.897375</td>\n",
       "      <td>404870000</td>\n",
       "    </tr>\n",
       "    <tr>\n",
       "      <th>1</th>\n",
       "      <td>2015-08-12</td>\n",
       "      <td>MSFT</td>\n",
       "      <td>40.050918</td>\n",
       "      <td>40.666555</td>\n",
       "      <td>39.634715</td>\n",
       "      <td>40.527821</td>\n",
       "      <td>30181400</td>\n",
       "    </tr>\n",
       "    <tr>\n",
       "      <th>2</th>\n",
       "      <td>2015-08-12</td>\n",
       "      <td>TSLA</td>\n",
       "      <td>15.666667</td>\n",
       "      <td>15.984667</td>\n",
       "      <td>15.516000</td>\n",
       "      <td>15.878000</td>\n",
       "      <td>55920000</td>\n",
       "    </tr>\n",
       "    <tr>\n",
       "      <th>3</th>\n",
       "      <td>2015-08-13</td>\n",
       "      <td>AAPL</td>\n",
       "      <td>26.077151</td>\n",
       "      <td>26.158053</td>\n",
       "      <td>25.740063</td>\n",
       "      <td>25.877146</td>\n",
       "      <td>194143200</td>\n",
       "    </tr>\n",
       "    <tr>\n",
       "      <th>4</th>\n",
       "      <td>2015-08-13</td>\n",
       "      <td>MSFT</td>\n",
       "      <td>40.805295</td>\n",
       "      <td>40.839976</td>\n",
       "      <td>40.311054</td>\n",
       "      <td>40.519154</td>\n",
       "      <td>22627200</td>\n",
       "    </tr>\n",
       "  </tbody>\n",
       "</table>\n",
       "</div>"
      ],
      "text/plain": [
       "        date ticker       open       high        low      close     volume\n",
       "0 2015-08-12   AAPL  25.288369  25.937826  24.636664  25.897375  404870000\n",
       "1 2015-08-12   MSFT  40.050918  40.666555  39.634715  40.527821   30181400\n",
       "2 2015-08-12   TSLA  15.666667  15.984667  15.516000  15.878000   55920000\n",
       "3 2015-08-13   AAPL  26.077151  26.158053  25.740063  25.877146  194143200\n",
       "4 2015-08-13   MSFT  40.805295  40.839976  40.311054  40.519154   22627200"
      ]
     },
     "execution_count": 41,
     "metadata": {},
     "output_type": "execute_result"
    }
   ],
   "source": [
    "df_test.head()"
   ]
  }
 ],
 "metadata": {
  "kernelspec": {
   "display_name": "venv",
   "language": "python",
   "name": "python3"
  },
  "language_info": {
   "codemirror_mode": {
    "name": "ipython",
    "version": 3
   },
   "file_extension": ".py",
   "mimetype": "text/x-python",
   "name": "python",
   "nbconvert_exporter": "python",
   "pygments_lexer": "ipython3",
   "version": "3.12.6"
  }
 },
 "nbformat": 4,
 "nbformat_minor": 5
}
