{
 "cells": [
  {
   "cell_type": "code",
   "execution_count": 2,
   "id": "885a621e",
   "metadata": {},
   "outputs": [
    {
     "data": {
      "text/plain": [
       "True"
      ]
     },
     "execution_count": 2,
     "metadata": {},
     "output_type": "execute_result"
    }
   ],
   "source": [
    "import pandas as pd\n",
    "import psycopg2\n",
    "import yfinance as yf\n",
    "import os\n",
    "from dotenv import load_dotenv\n",
    "from sqlalchemy import create_engine, text\n",
    "import warnings\n",
    "\n",
    "# 모든 경고 무시\n",
    "warnings.filterwarnings(\"ignore\")\n",
    "load_dotenv()"
   ]
  },
  {
   "cell_type": "code",
   "execution_count": 3,
   "id": "2a0ed896",
   "metadata": {},
   "outputs": [
    {
     "name": "stdout",
     "output_type": "stream",
     "text": [
      "2025-08-15 13:21:11.365558+00:00\n"
     ]
    }
   ],
   "source": [
    "import os\n",
    "from sqlalchemy import create_engine, text\n",
    "\n",
    "host = os.environ[\"SUPABASE_HOST\"]\n",
    "port = os.environ.get(\"SUPABASE_PORT\", 5432)\n",
    "db   = os.environ[\"SUPABASE_DB\"]\n",
    "user = os.environ[\"SUPABASE_USER\"]\n",
    "pw   = os.environ[\"SUPABASE_PASSWORD\"]\n",
    "\n",
    "url = f\"postgresql+psycopg2://{user}:{pw}@{host}:{port}/{db}?sslmode=require\"\n",
    "engine = create_engine(url, connect_args={\"sslmode\":\"require\"}, pool_pre_ping=True)\n",
    "\n",
    "# 연결 테스트\n",
    "with engine.begin() as conn:\n",
    "    print(conn.execute(text(\"select now()\")).scalar())\n"
   ]
  },
  {
   "cell_type": "code",
   "execution_count": 4,
   "id": "24f43ebe",
   "metadata": {},
   "outputs": [
    {
     "name": "stderr",
     "output_type": "stream",
     "text": [
      "[*********************100%***********************]  14 of 14 completed\n"
     ]
    }
   ],
   "source": [
    "tickers = [\"^IXIC\", \"^GSPC\", \"^DJI\", \"^KS11\", \"KRW=X\", \"JPYKRW=X\", \"EURKRW=X\", \"BTC-USD\", \"^VIX\", \"TLT\", \"^TNX\", \"^TYX\", \"GC=F\", \"SI=F\", ]\n",
    "period = \"10y\"\n",
    "interval = \"1d\"\n",
    "\n",
    "df = yf.download(tickers, period=period, interval=interval, group_by=\"ticker\", auto_adjust=True)\n",
    "df = df.stack(level=0)\n",
    "df = df.reset_index()\n",
    "df.columns = df.columns.str.lower()"
   ]
  },
  {
   "cell_type": "code",
   "execution_count": null,
   "id": "730be95e",
   "metadata": {},
   "outputs": [],
   "source": [
    "with engine.begin() as conn:\n",
    "    df.to_sql(\"stock_data\", con=conn, if_exists=\"replace\", index=False)"
   ]
  },
  {
   "cell_type": "code",
   "execution_count": 5,
   "id": "01948dc6",
   "metadata": {},
   "outputs": [],
   "source": [
    "with engine.begin() as conn:\n",
    "    df_test = pd.read_sql(\"SELECT * FROM stock_data\", engine)"
   ]
  }
 ],
 "metadata": {
  "kernelspec": {
   "display_name": "venv",
   "language": "python",
   "name": "python3"
  },
  "language_info": {
   "codemirror_mode": {
    "name": "ipython",
    "version": 3
   },
   "file_extension": ".py",
   "mimetype": "text/x-python",
   "name": "python",
   "nbconvert_exporter": "python",
   "pygments_lexer": "ipython3",
   "version": "3.12.6"
  }
 },
 "nbformat": 4,
 "nbformat_minor": 5
}
